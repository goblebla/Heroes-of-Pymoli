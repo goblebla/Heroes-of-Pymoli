{
 "cells": [
  {
   "cell_type": "markdown",
   "metadata": {},
   "source": [
    "### Heroes Of Pymoli Data Analysis\n",
    "\n",
    "\n",
    "### Observable Tends:\n",
    "\n",
    "* Of the 576 active players, the vast majority are male (84%). There also exists, a smaller, but notable proportion of female players (14%).\n",
    "\n",
    "* Our peak age demographic falls between 20-24 (44.8%) with secondary groups falling between 15-19 (18.60%) and 25-29 (13.4%).  \n",
    "\n",
    "* The top age demographic of 20-24 drove the largest amount of revenue ($1,114.06) with an average purchase of $4.32. The 35-39 age group has the highest average purchase of $4.76 only slightly ahead of the under 10 age group.\n",
    "-----"
   ]
  },
  {
   "cell_type": "markdown",
   "metadata": {},
   "source": [
    "### Note\n",
    "\n"
   ]
  },
  {
   "cell_type": "code",
   "execution_count": 102,
   "metadata": {},
   "outputs": [
    {
     "data": {
      "text/html": [
       "<div>\n",
       "<style scoped>\n",
       "    .dataframe tbody tr th:only-of-type {\n",
       "        vertical-align: middle;\n",
       "    }\n",
       "\n",
       "    .dataframe tbody tr th {\n",
       "        vertical-align: top;\n",
       "    }\n",
       "\n",
       "    .dataframe thead th {\n",
       "        text-align: right;\n",
       "    }\n",
       "</style>\n",
       "<table border=\"1\" class=\"dataframe\">\n",
       "  <thead>\n",
       "    <tr style=\"text-align: right;\">\n",
       "      <th></th>\n",
       "      <th>Purchase ID</th>\n",
       "      <th>SN</th>\n",
       "      <th>Age</th>\n",
       "      <th>Gender</th>\n",
       "      <th>Item ID</th>\n",
       "      <th>Item Name</th>\n",
       "      <th>Price</th>\n",
       "    </tr>\n",
       "  </thead>\n",
       "  <tbody>\n",
       "    <tr>\n",
       "      <td>0</td>\n",
       "      <td>0</td>\n",
       "      <td>Lisim78</td>\n",
       "      <td>20</td>\n",
       "      <td>Male</td>\n",
       "      <td>108</td>\n",
       "      <td>Extraction, Quickblade Of Trembling Hands</td>\n",
       "      <td>3.53</td>\n",
       "    </tr>\n",
       "    <tr>\n",
       "      <td>1</td>\n",
       "      <td>1</td>\n",
       "      <td>Lisovynya38</td>\n",
       "      <td>40</td>\n",
       "      <td>Male</td>\n",
       "      <td>143</td>\n",
       "      <td>Frenzied Scimitar</td>\n",
       "      <td>1.56</td>\n",
       "    </tr>\n",
       "    <tr>\n",
       "      <td>2</td>\n",
       "      <td>2</td>\n",
       "      <td>Ithergue48</td>\n",
       "      <td>24</td>\n",
       "      <td>Male</td>\n",
       "      <td>92</td>\n",
       "      <td>Final Critic</td>\n",
       "      <td>4.88</td>\n",
       "    </tr>\n",
       "    <tr>\n",
       "      <td>3</td>\n",
       "      <td>3</td>\n",
       "      <td>Chamassasya86</td>\n",
       "      <td>24</td>\n",
       "      <td>Male</td>\n",
       "      <td>100</td>\n",
       "      <td>Blindscythe</td>\n",
       "      <td>3.27</td>\n",
       "    </tr>\n",
       "    <tr>\n",
       "      <td>4</td>\n",
       "      <td>4</td>\n",
       "      <td>Iskosia90</td>\n",
       "      <td>23</td>\n",
       "      <td>Male</td>\n",
       "      <td>131</td>\n",
       "      <td>Fury</td>\n",
       "      <td>1.44</td>\n",
       "    </tr>\n",
       "  </tbody>\n",
       "</table>\n",
       "</div>"
      ],
      "text/plain": [
       "   Purchase ID             SN  Age Gender  Item ID  \\\n",
       "0            0        Lisim78   20   Male      108   \n",
       "1            1    Lisovynya38   40   Male      143   \n",
       "2            2     Ithergue48   24   Male       92   \n",
       "3            3  Chamassasya86   24   Male      100   \n",
       "4            4      Iskosia90   23   Male      131   \n",
       "\n",
       "                                   Item Name  Price  \n",
       "0  Extraction, Quickblade Of Trembling Hands   3.53  \n",
       "1                          Frenzied Scimitar   1.56  \n",
       "2                               Final Critic   4.88  \n",
       "3                                Blindscythe   3.27  \n",
       "4                                       Fury   1.44  "
      ]
     },
     "execution_count": 102,
     "metadata": {},
     "output_type": "execute_result"
    }
   ],
   "source": [
    "# Dependencies and Setup\n",
    "import pandas as pd\n",
    "import numpy as np\n",
    "\n",
    "# File to Load (Remember to Change These)\n",
    "file_to_load = \"Resources/purchase_data.csv\"\n",
    "\n",
    "# Read Purchasing File and store into Pandas data frame\n",
    "purchase_data = pd.read_csv(file_to_load)\n",
    "purchase_data.head()"
   ]
  },
  {
   "cell_type": "code",
   "execution_count": 103,
   "metadata": {},
   "outputs": [
    {
     "data": {
      "text/html": [
       "<div>\n",
       "<style scoped>\n",
       "    .dataframe tbody tr th:only-of-type {\n",
       "        vertical-align: middle;\n",
       "    }\n",
       "\n",
       "    .dataframe tbody tr th {\n",
       "        vertical-align: top;\n",
       "    }\n",
       "\n",
       "    .dataframe thead th {\n",
       "        text-align: right;\n",
       "    }\n",
       "</style>\n",
       "<table border=\"1\" class=\"dataframe\">\n",
       "  <thead>\n",
       "    <tr style=\"text-align: right;\">\n",
       "      <th></th>\n",
       "      <th>Purchase ID</th>\n",
       "      <th>Age</th>\n",
       "      <th>Item ID</th>\n",
       "      <th>Price</th>\n",
       "    </tr>\n",
       "  </thead>\n",
       "  <tbody>\n",
       "    <tr>\n",
       "      <td>count</td>\n",
       "      <td>780.000000</td>\n",
       "      <td>780.000000</td>\n",
       "      <td>780.000000</td>\n",
       "      <td>780.000000</td>\n",
       "    </tr>\n",
       "    <tr>\n",
       "      <td>mean</td>\n",
       "      <td>389.500000</td>\n",
       "      <td>22.714103</td>\n",
       "      <td>91.755128</td>\n",
       "      <td>3.050987</td>\n",
       "    </tr>\n",
       "    <tr>\n",
       "      <td>std</td>\n",
       "      <td>225.310896</td>\n",
       "      <td>6.659444</td>\n",
       "      <td>52.697702</td>\n",
       "      <td>1.169549</td>\n",
       "    </tr>\n",
       "    <tr>\n",
       "      <td>min</td>\n",
       "      <td>0.000000</td>\n",
       "      <td>7.000000</td>\n",
       "      <td>0.000000</td>\n",
       "      <td>1.000000</td>\n",
       "    </tr>\n",
       "    <tr>\n",
       "      <td>25%</td>\n",
       "      <td>194.750000</td>\n",
       "      <td>20.000000</td>\n",
       "      <td>47.750000</td>\n",
       "      <td>1.980000</td>\n",
       "    </tr>\n",
       "    <tr>\n",
       "      <td>50%</td>\n",
       "      <td>389.500000</td>\n",
       "      <td>22.000000</td>\n",
       "      <td>92.000000</td>\n",
       "      <td>3.150000</td>\n",
       "    </tr>\n",
       "    <tr>\n",
       "      <td>75%</td>\n",
       "      <td>584.250000</td>\n",
       "      <td>25.000000</td>\n",
       "      <td>138.000000</td>\n",
       "      <td>4.080000</td>\n",
       "    </tr>\n",
       "    <tr>\n",
       "      <td>max</td>\n",
       "      <td>779.000000</td>\n",
       "      <td>45.000000</td>\n",
       "      <td>183.000000</td>\n",
       "      <td>4.990000</td>\n",
       "    </tr>\n",
       "  </tbody>\n",
       "</table>\n",
       "</div>"
      ],
      "text/plain": [
       "       Purchase ID         Age     Item ID       Price\n",
       "count   780.000000  780.000000  780.000000  780.000000\n",
       "mean    389.500000   22.714103   91.755128    3.050987\n",
       "std     225.310896    6.659444   52.697702    1.169549\n",
       "min       0.000000    7.000000    0.000000    1.000000\n",
       "25%     194.750000   20.000000   47.750000    1.980000\n",
       "50%     389.500000   22.000000   92.000000    3.150000\n",
       "75%     584.250000   25.000000  138.000000    4.080000\n",
       "max     779.000000   45.000000  183.000000    4.990000"
      ]
     },
     "execution_count": 103,
     "metadata": {},
     "output_type": "execute_result"
    }
   ],
   "source": [
    "purchase_data.describe()\n"
   ]
  },
  {
   "cell_type": "markdown",
   "metadata": {},
   "source": [
    "## Player Count"
   ]
  },
  {
   "cell_type": "markdown",
   "metadata": {},
   "source": [
    "* Display the total number of players\n"
   ]
  },
  {
   "cell_type": "code",
   "execution_count": 104,
   "metadata": {},
   "outputs": [
    {
     "data": {
      "text/html": [
       "<div>\n",
       "<style scoped>\n",
       "    .dataframe tbody tr th:only-of-type {\n",
       "        vertical-align: middle;\n",
       "    }\n",
       "\n",
       "    .dataframe tbody tr th {\n",
       "        vertical-align: top;\n",
       "    }\n",
       "\n",
       "    .dataframe thead th {\n",
       "        text-align: right;\n",
       "    }\n",
       "</style>\n",
       "<table border=\"1\" class=\"dataframe\">\n",
       "  <thead>\n",
       "    <tr style=\"text-align: right;\">\n",
       "      <th></th>\n",
       "      <th>Total Players</th>\n",
       "    </tr>\n",
       "  </thead>\n",
       "  <tbody>\n",
       "    <tr>\n",
       "      <td>0</td>\n",
       "      <td>576</td>\n",
       "    </tr>\n",
       "  </tbody>\n",
       "</table>\n",
       "</div>"
      ],
      "text/plain": [
       "   Total Players\n",
       "0            576"
      ]
     },
     "execution_count": 104,
     "metadata": {},
     "output_type": "execute_result"
    }
   ],
   "source": [
    "# Use the length of list of screen names \"SN\", for total players.\n",
    "total_players = len(purchase_data[\"SN\"].value_counts())\n",
    "\n",
    "# Create a data frame with total players named player count\n",
    "player_count = pd.DataFrame({\"Total Players\":[total_players]})\n",
    "player_count"
   ]
  },
  {
   "cell_type": "markdown",
   "metadata": {},
   "source": [
    "## Purchasing Analysis (Total)"
   ]
  },
  {
   "cell_type": "markdown",
   "metadata": {},
   "source": [
    "* Run basic calculations to obtain number of unique items, average price, etc.\n",
    "\n",
    "\n",
    "* Create a summary data frame to hold the results\n",
    "\n",
    "\n",
    "* Optional: give the displayed data cleaner formatting\n",
    "\n",
    "\n",
    "* Display the summary data frame\n"
   ]
  },
  {
   "cell_type": "code",
   "execution_count": 105,
   "metadata": {
    "scrolled": true
   },
   "outputs": [
    {
     "data": {
      "text/html": [
       "<style  type=\"text/css\" >\n",
       "</style><table id=\"T_4c6cc7da_7c58_11ea_9e1a_24ee9abd5695\" ><thead>    <tr>        <th class=\"blank level0\" ></th>        <th class=\"col_heading level0 col0\" >Number of Unique Items</th>        <th class=\"col_heading level0 col1\" >Average Price</th>        <th class=\"col_heading level0 col2\" >Number of Purchases</th>        <th class=\"col_heading level0 col3\" >Total Revenue</th>    </tr></thead><tbody>\n",
       "                <tr>\n",
       "                        <th id=\"T_4c6cc7da_7c58_11ea_9e1a_24ee9abd5695level0_row0\" class=\"row_heading level0 row0\" >0</th>\n",
       "                        <td id=\"T_4c6cc7da_7c58_11ea_9e1a_24ee9abd5695row0_col0\" class=\"data row0 col0\" >179</td>\n",
       "                        <td id=\"T_4c6cc7da_7c58_11ea_9e1a_24ee9abd5695row0_col1\" class=\"data row0 col1\" >$3.05</td>\n",
       "                        <td id=\"T_4c6cc7da_7c58_11ea_9e1a_24ee9abd5695row0_col2\" class=\"data row0 col2\" >780</td>\n",
       "                        <td id=\"T_4c6cc7da_7c58_11ea_9e1a_24ee9abd5695row0_col3\" class=\"data row0 col3\" >$2,379.77</td>\n",
       "            </tr>\n",
       "    </tbody></table>"
      ],
      "text/plain": [
       "<pandas.io.formats.style.Styler at 0x271704e0888>"
      ]
     },
     "execution_count": 105,
     "metadata": {},
     "output_type": "execute_result"
    }
   ],
   "source": [
    "#Counting unique items\n",
    "number_of_unique_items = len((purchase_data[\"Item ID\"]).unique())\n",
    "\n",
    "#Average price\n",
    "average_price = (purchase_data['Price']).mean()\n",
    "number_of_purchases = (purchase_data['Purchase ID']).count()\n",
    "total_revenue = (purchase_data['Price']).sum()\n",
    "\n",
    "#Format variables\n",
    "dollar_format = \"${:,.2f}\"\n",
    "perc_format = \"{:,.2f}%\"\n",
    "\n",
    "summary_df = pd.DataFrame({\"Number of Unique Items\" : [number_of_unique_items],\n",
    "              \"Average Price\" : [average_price],\n",
    "              \"Number of Purchases\" : [number_of_purchases],\n",
    "              \"Total Revenue\" : [total_revenue]})\n",
    "\n",
    "summary_df.style.format({\"Average Price\": dollar_format,\n",
    "                        \"Total Revenue\": dollar_format})"
   ]
  },
  {
   "cell_type": "markdown",
   "metadata": {},
   "source": [
    "## Gender Demographics"
   ]
  },
  {
   "cell_type": "markdown",
   "metadata": {},
   "source": [
    "* Percentage and Count of Male Players\n",
    "\n",
    "\n",
    "* Percentage and Count of Female Players\n",
    "\n",
    "\n",
    "* Percentage and Count of Other / Non-Disclosed\n",
    "\n",
    "\n"
   ]
  },
  {
   "cell_type": "code",
   "execution_count": 106,
   "metadata": {},
   "outputs": [
    {
     "data": {
      "text/html": [
       "<style  type=\"text/css\" >\n",
       "</style><table id=\"T_4ce790ca_7c58_11ea_8779_24ee9abd5695\" ><thead>    <tr>        <th class=\"blank level0\" ></th>        <th class=\"col_heading level0 col0\" >Total Count</th>        <th class=\"col_heading level0 col1\" >Percentage of Players</th>    </tr></thead><tbody>\n",
       "                <tr>\n",
       "                        <th id=\"T_4ce790ca_7c58_11ea_8779_24ee9abd5695level0_row0\" class=\"row_heading level0 row0\" >Male</th>\n",
       "                        <td id=\"T_4ce790ca_7c58_11ea_8779_24ee9abd5695row0_col0\" class=\"data row0 col0\" >484</td>\n",
       "                        <td id=\"T_4ce790ca_7c58_11ea_8779_24ee9abd5695row0_col1\" class=\"data row0 col1\" >84.03%</td>\n",
       "            </tr>\n",
       "            <tr>\n",
       "                        <th id=\"T_4ce790ca_7c58_11ea_8779_24ee9abd5695level0_row1\" class=\"row_heading level0 row1\" >Female</th>\n",
       "                        <td id=\"T_4ce790ca_7c58_11ea_8779_24ee9abd5695row1_col0\" class=\"data row1 col0\" >81</td>\n",
       "                        <td id=\"T_4ce790ca_7c58_11ea_8779_24ee9abd5695row1_col1\" class=\"data row1 col1\" >14.06%</td>\n",
       "            </tr>\n",
       "            <tr>\n",
       "                        <th id=\"T_4ce790ca_7c58_11ea_8779_24ee9abd5695level0_row2\" class=\"row_heading level0 row2\" >Other / Non-Disclosed</th>\n",
       "                        <td id=\"T_4ce790ca_7c58_11ea_8779_24ee9abd5695row2_col0\" class=\"data row2 col0\" >11</td>\n",
       "                        <td id=\"T_4ce790ca_7c58_11ea_8779_24ee9abd5695row2_col1\" class=\"data row2 col1\" >1.91%</td>\n",
       "            </tr>\n",
       "    </tbody></table>"
      ],
      "text/plain": [
       "<pandas.io.formats.style.Styler at 0x271704d1608>"
      ]
     },
     "execution_count": 106,
     "metadata": {},
     "output_type": "execute_result"
    }
   ],
   "source": [
    "#Grouping data by gender\n",
    "gender_data = purchase_data.groupby(['Gender'])\n",
    "\n",
    "#Counting total number of players\n",
    "total_gender_count = gender_data.nunique()[\"SN\"]\n",
    "\n",
    "#Calculating percentage of total players by gender\n",
    "percentage_of_players = (total_gender_count / total_players) * 100\n",
    "\n",
    "#Creating new data frame with values\n",
    "gender_df = pd.DataFrame({\"Total Count\" : total_gender_count, \"Percentage of Players\" : percentage_of_players})\n",
    "\n",
    "#Deleting index within data frame\n",
    "gender_df.index.name = None\n",
    "\n",
    "#Sorting and adding format\n",
    "gender_df.sort_values(['Total Count'], ascending = False).style.format({\"Percentage of Players\":perc_format})\n",
    "\n",
    "\n"
   ]
  },
  {
   "cell_type": "markdown",
   "metadata": {},
   "source": [
    "\n",
    "## Purchasing Analysis (Gender)"
   ]
  },
  {
   "cell_type": "markdown",
   "metadata": {},
   "source": [
    "* Run basic calculations to obtain purchase count, avg. purchase price, avg. purchase total per person etc. by gender\n",
    "\n",
    "\n",
    "\n",
    "\n",
    "* Create a summary data frame to hold the results\n",
    "\n",
    "\n",
    "* Optional: give the displayed data cleaner formatting\n",
    "\n",
    "\n",
    "* Display the summary data frame"
   ]
  },
  {
   "cell_type": "code",
   "execution_count": 107,
   "metadata": {},
   "outputs": [
    {
     "data": {
      "text/html": [
       "<style  type=\"text/css\" >\n",
       "</style><table id=\"T_4d91ce48_7c58_11ea_97fa_24ee9abd5695\" ><thead>    <tr>        <th class=\"blank level0\" ></th>        <th class=\"col_heading level0 col0\" >Purchase Count</th>        <th class=\"col_heading level0 col1\" >Avg Purchase Price</th>        <th class=\"col_heading level0 col2\" >Total Purchase Value</th>        <th class=\"col_heading level0 col3\" >Avg Total Purchase</th>    </tr></thead><tbody>\n",
       "                <tr>\n",
       "                        <th id=\"T_4d91ce48_7c58_11ea_97fa_24ee9abd5695level0_row0\" class=\"row_heading level0 row0\" >Female</th>\n",
       "                        <td id=\"T_4d91ce48_7c58_11ea_97fa_24ee9abd5695row0_col0\" class=\"data row0 col0\" >113</td>\n",
       "                        <td id=\"T_4d91ce48_7c58_11ea_97fa_24ee9abd5695row0_col1\" class=\"data row0 col1\" >$3.20</td>\n",
       "                        <td id=\"T_4d91ce48_7c58_11ea_97fa_24ee9abd5695row0_col2\" class=\"data row0 col2\" >$361.94</td>\n",
       "                        <td id=\"T_4d91ce48_7c58_11ea_97fa_24ee9abd5695row0_col3\" class=\"data row0 col3\" >$4.47</td>\n",
       "            </tr>\n",
       "            <tr>\n",
       "                        <th id=\"T_4d91ce48_7c58_11ea_97fa_24ee9abd5695level0_row1\" class=\"row_heading level0 row1\" >Male</th>\n",
       "                        <td id=\"T_4d91ce48_7c58_11ea_97fa_24ee9abd5695row1_col0\" class=\"data row1 col0\" >652</td>\n",
       "                        <td id=\"T_4d91ce48_7c58_11ea_97fa_24ee9abd5695row1_col1\" class=\"data row1 col1\" >$3.02</td>\n",
       "                        <td id=\"T_4d91ce48_7c58_11ea_97fa_24ee9abd5695row1_col2\" class=\"data row1 col2\" >$1,967.64</td>\n",
       "                        <td id=\"T_4d91ce48_7c58_11ea_97fa_24ee9abd5695row1_col3\" class=\"data row1 col3\" >$4.07</td>\n",
       "            </tr>\n",
       "            <tr>\n",
       "                        <th id=\"T_4d91ce48_7c58_11ea_97fa_24ee9abd5695level0_row2\" class=\"row_heading level0 row2\" >Other / Non-Disclosed</th>\n",
       "                        <td id=\"T_4d91ce48_7c58_11ea_97fa_24ee9abd5695row2_col0\" class=\"data row2 col0\" >15</td>\n",
       "                        <td id=\"T_4d91ce48_7c58_11ea_97fa_24ee9abd5695row2_col1\" class=\"data row2 col1\" >$3.35</td>\n",
       "                        <td id=\"T_4d91ce48_7c58_11ea_97fa_24ee9abd5695row2_col2\" class=\"data row2 col2\" >$50.19</td>\n",
       "                        <td id=\"T_4d91ce48_7c58_11ea_97fa_24ee9abd5695row2_col3\" class=\"data row2 col3\" >$4.56</td>\n",
       "            </tr>\n",
       "    </tbody></table>"
      ],
      "text/plain": [
       "<pandas.io.formats.style.Styler at 0x2717046fcc8>"
      ]
     },
     "execution_count": 107,
     "metadata": {},
     "output_type": "execute_result"
    }
   ],
   "source": [
    "#Count total purchases by gender\n",
    "purchase_count = gender_data[\"Purchase ID\"].count()\n",
    "\n",
    "#Average purchase price by gender\n",
    "avg_purchase_price = gender_data[\"Price\"].mean()\n",
    "\n",
    "#Purchase total by gender\n",
    "purchase_total = gender_data[\"Price\"].sum()\n",
    "\n",
    "#Average purchse total by gender\n",
    "avg_purchase_total = purchase_total/total_gender_count\n",
    "\n",
    "#New dataframe to display values above\n",
    "gender_purchase_df = pd.DataFrame({\"Purchase Count\": purchase_count,\n",
    "                                  \"Avg Purchase Price\": avg_purchase_price,\n",
    "                                  \"Total Purchase Value\": purchase_total,\n",
    "                                  \"Avg Total Purchase\": avg_purchase_total})\n",
    "\n",
    "#Adding format to data frame above\n",
    "gender_purchase_df.style.format({\"Avg Purchase Price\": dollar_format, \"Total Purchase Value\": dollar_format, \"Avg Total Purchase\": dollar_format})\n",
    "\n",
    "\n",
    "\n"
   ]
  },
  {
   "cell_type": "markdown",
   "metadata": {},
   "source": [
    "## Age Demographics"
   ]
  },
  {
   "cell_type": "markdown",
   "metadata": {},
   "source": [
    "* Establish bins for ages\n",
    "\n",
    "\n",
    "* Categorize the existing players using the age bins. Hint: use pd.cut()\n",
    "\n",
    "\n",
    "* Calculate the numbers and percentages by age group\n",
    "\n",
    "\n",
    "* Create a summary data frame to hold the results\n",
    "\n",
    "\n",
    "* Optional: round the percentage column to two decimal points\n",
    "\n",
    "\n",
    "* Display Age Demographics Table\n"
   ]
  },
  {
   "cell_type": "code",
   "execution_count": 108,
   "metadata": {},
   "outputs": [
    {
     "data": {
      "text/html": [
       "<style  type=\"text/css\" >\n",
       "</style><table id=\"T_4e4a021e_7c58_11ea_bf50_24ee9abd5695\" ><thead>    <tr>        <th class=\"blank level0\" ></th>        <th class=\"col_heading level0 col0\" >Total Count</th>        <th class=\"col_heading level0 col1\" >Percentage of Players</th>    </tr></thead><tbody>\n",
       "                <tr>\n",
       "                        <th id=\"T_4e4a021e_7c58_11ea_bf50_24ee9abd5695level0_row0\" class=\"row_heading level0 row0\" ><10</th>\n",
       "                        <td id=\"T_4e4a021e_7c58_11ea_bf50_24ee9abd5695row0_col0\" class=\"data row0 col0\" >17</td>\n",
       "                        <td id=\"T_4e4a021e_7c58_11ea_bf50_24ee9abd5695row0_col1\" class=\"data row0 col1\" >2.95%</td>\n",
       "            </tr>\n",
       "            <tr>\n",
       "                        <th id=\"T_4e4a021e_7c58_11ea_bf50_24ee9abd5695level0_row1\" class=\"row_heading level0 row1\" >10-14</th>\n",
       "                        <td id=\"T_4e4a021e_7c58_11ea_bf50_24ee9abd5695row1_col0\" class=\"data row1 col0\" >22</td>\n",
       "                        <td id=\"T_4e4a021e_7c58_11ea_bf50_24ee9abd5695row1_col1\" class=\"data row1 col1\" >3.82%</td>\n",
       "            </tr>\n",
       "            <tr>\n",
       "                        <th id=\"T_4e4a021e_7c58_11ea_bf50_24ee9abd5695level0_row2\" class=\"row_heading level0 row2\" >15-19</th>\n",
       "                        <td id=\"T_4e4a021e_7c58_11ea_bf50_24ee9abd5695row2_col0\" class=\"data row2 col0\" >107</td>\n",
       "                        <td id=\"T_4e4a021e_7c58_11ea_bf50_24ee9abd5695row2_col1\" class=\"data row2 col1\" >18.58%</td>\n",
       "            </tr>\n",
       "            <tr>\n",
       "                        <th id=\"T_4e4a021e_7c58_11ea_bf50_24ee9abd5695level0_row3\" class=\"row_heading level0 row3\" >20-24</th>\n",
       "                        <td id=\"T_4e4a021e_7c58_11ea_bf50_24ee9abd5695row3_col0\" class=\"data row3 col0\" >258</td>\n",
       "                        <td id=\"T_4e4a021e_7c58_11ea_bf50_24ee9abd5695row3_col1\" class=\"data row3 col1\" >44.79%</td>\n",
       "            </tr>\n",
       "            <tr>\n",
       "                        <th id=\"T_4e4a021e_7c58_11ea_bf50_24ee9abd5695level0_row4\" class=\"row_heading level0 row4\" >25-29</th>\n",
       "                        <td id=\"T_4e4a021e_7c58_11ea_bf50_24ee9abd5695row4_col0\" class=\"data row4 col0\" >77</td>\n",
       "                        <td id=\"T_4e4a021e_7c58_11ea_bf50_24ee9abd5695row4_col1\" class=\"data row4 col1\" >13.37%</td>\n",
       "            </tr>\n",
       "            <tr>\n",
       "                        <th id=\"T_4e4a021e_7c58_11ea_bf50_24ee9abd5695level0_row5\" class=\"row_heading level0 row5\" >30-34</th>\n",
       "                        <td id=\"T_4e4a021e_7c58_11ea_bf50_24ee9abd5695row5_col0\" class=\"data row5 col0\" >52</td>\n",
       "                        <td id=\"T_4e4a021e_7c58_11ea_bf50_24ee9abd5695row5_col1\" class=\"data row5 col1\" >9.03%</td>\n",
       "            </tr>\n",
       "            <tr>\n",
       "                        <th id=\"T_4e4a021e_7c58_11ea_bf50_24ee9abd5695level0_row6\" class=\"row_heading level0 row6\" >35-39</th>\n",
       "                        <td id=\"T_4e4a021e_7c58_11ea_bf50_24ee9abd5695row6_col0\" class=\"data row6 col0\" >31</td>\n",
       "                        <td id=\"T_4e4a021e_7c58_11ea_bf50_24ee9abd5695row6_col1\" class=\"data row6 col1\" >5.38%</td>\n",
       "            </tr>\n",
       "            <tr>\n",
       "                        <th id=\"T_4e4a021e_7c58_11ea_bf50_24ee9abd5695level0_row7\" class=\"row_heading level0 row7\" >40+</th>\n",
       "                        <td id=\"T_4e4a021e_7c58_11ea_bf50_24ee9abd5695row7_col0\" class=\"data row7 col0\" >12</td>\n",
       "                        <td id=\"T_4e4a021e_7c58_11ea_bf50_24ee9abd5695row7_col1\" class=\"data row7 col1\" >2.08%</td>\n",
       "            </tr>\n",
       "    </tbody></table>"
      ],
      "text/plain": [
       "<pandas.io.formats.style.Styler at 0x271703562c8>"
      ]
     },
     "execution_count": 108,
     "metadata": {},
     "output_type": "execute_result"
    }
   ],
   "source": [
    "#Establish bins for ages\n",
    "age_bins = [0, 9.90, 14.90, 19.90, 24.90, 29.90, 34.90, 39.90, 99999]\n",
    "group_names = [\"<10\", \"10-14\", \"15-19\", \"20-24\", \"25-29\", \"30-34\", \"35-39\", \"40+\"]\n",
    "\n",
    "#Defining new column in data set with above bins\n",
    "purchase_data[\"Age Group\"] = pd.cut(purchase_data[\"Age\"], age_bins, labels=group_names)\n",
    "purchase_data\n",
    "\n",
    "#Create new dataframe and group by new column \"Age Group\"\n",
    "age_group = purchase_data.groupby(\"Age Group\")\n",
    "\n",
    "#Count players by age category\n",
    "total_age_count = age_group[\"SN\"].nunique()\n",
    "\n",
    "#Percentages by age group\n",
    "percentage_by_age = (total_age_count/total_players) * 100\n",
    "\n",
    "#Create data frame with new values above\n",
    "age_group_data = pd.DataFrame({\"Total Count\": total_age_count,\n",
    "                            \"Percentage of Players\": percentage_by_age})\n",
    "\n",
    "#Delete index in dataframe\n",
    "age_group_data.index.name = None\n",
    "\n",
    "#Adding formatting to columns column\n",
    "age_group_data.style.format({\"Percentage of Players\": perc_format})\n"
   ]
  },
  {
   "cell_type": "markdown",
   "metadata": {},
   "source": [
    "## Purchasing Analysis (Age)"
   ]
  },
  {
   "cell_type": "markdown",
   "metadata": {},
   "source": [
    "* Bin the purchase_data data frame by age\n",
    "\n",
    "\n",
    "* Run basic calculations to obtain purchase count, avg. purchase price, avg. purchase total per person etc. in the table below\n",
    "\n",
    "\n",
    "* Create a summary data frame to hold the results\n",
    "\n",
    "\n",
    "* Optional: give the displayed data cleaner formatting\n",
    "\n",
    "\n",
    "* Display the summary data frame"
   ]
  },
  {
   "cell_type": "code",
   "execution_count": 109,
   "metadata": {},
   "outputs": [
    {
     "data": {
      "text/html": [
       "<style  type=\"text/css\" >\n",
       "</style><table id=\"T_4eec591e_7c58_11ea_8607_24ee9abd5695\" ><thead>    <tr>        <th class=\"blank level0\" ></th>        <th class=\"col_heading level0 col0\" >Purchase Count</th>        <th class=\"col_heading level0 col1\" >Average Purchase Price</th>        <th class=\"col_heading level0 col2\" >Total Purchase Value</th>        <th class=\"col_heading level0 col3\" >Avg Total Purchase per Person</th>    </tr></thead><tbody>\n",
       "                <tr>\n",
       "                        <th id=\"T_4eec591e_7c58_11ea_8607_24ee9abd5695level0_row0\" class=\"row_heading level0 row0\" ><10</th>\n",
       "                        <td id=\"T_4eec591e_7c58_11ea_8607_24ee9abd5695row0_col0\" class=\"data row0 col0\" >23</td>\n",
       "                        <td id=\"T_4eec591e_7c58_11ea_8607_24ee9abd5695row0_col1\" class=\"data row0 col1\" >$3.35</td>\n",
       "                        <td id=\"T_4eec591e_7c58_11ea_8607_24ee9abd5695row0_col2\" class=\"data row0 col2\" >$77.13</td>\n",
       "                        <td id=\"T_4eec591e_7c58_11ea_8607_24ee9abd5695row0_col3\" class=\"data row0 col3\" >$4.54</td>\n",
       "            </tr>\n",
       "            <tr>\n",
       "                        <th id=\"T_4eec591e_7c58_11ea_8607_24ee9abd5695level0_row1\" class=\"row_heading level0 row1\" >10-14</th>\n",
       "                        <td id=\"T_4eec591e_7c58_11ea_8607_24ee9abd5695row1_col0\" class=\"data row1 col0\" >28</td>\n",
       "                        <td id=\"T_4eec591e_7c58_11ea_8607_24ee9abd5695row1_col1\" class=\"data row1 col1\" >$2.96</td>\n",
       "                        <td id=\"T_4eec591e_7c58_11ea_8607_24ee9abd5695row1_col2\" class=\"data row1 col2\" >$82.78</td>\n",
       "                        <td id=\"T_4eec591e_7c58_11ea_8607_24ee9abd5695row1_col3\" class=\"data row1 col3\" >$3.76</td>\n",
       "            </tr>\n",
       "            <tr>\n",
       "                        <th id=\"T_4eec591e_7c58_11ea_8607_24ee9abd5695level0_row2\" class=\"row_heading level0 row2\" >15-19</th>\n",
       "                        <td id=\"T_4eec591e_7c58_11ea_8607_24ee9abd5695row2_col0\" class=\"data row2 col0\" >136</td>\n",
       "                        <td id=\"T_4eec591e_7c58_11ea_8607_24ee9abd5695row2_col1\" class=\"data row2 col1\" >$3.04</td>\n",
       "                        <td id=\"T_4eec591e_7c58_11ea_8607_24ee9abd5695row2_col2\" class=\"data row2 col2\" >$412.89</td>\n",
       "                        <td id=\"T_4eec591e_7c58_11ea_8607_24ee9abd5695row2_col3\" class=\"data row2 col3\" >$3.86</td>\n",
       "            </tr>\n",
       "            <tr>\n",
       "                        <th id=\"T_4eec591e_7c58_11ea_8607_24ee9abd5695level0_row3\" class=\"row_heading level0 row3\" >20-24</th>\n",
       "                        <td id=\"T_4eec591e_7c58_11ea_8607_24ee9abd5695row3_col0\" class=\"data row3 col0\" >365</td>\n",
       "                        <td id=\"T_4eec591e_7c58_11ea_8607_24ee9abd5695row3_col1\" class=\"data row3 col1\" >$3.05</td>\n",
       "                        <td id=\"T_4eec591e_7c58_11ea_8607_24ee9abd5695row3_col2\" class=\"data row3 col2\" >$1,114.06</td>\n",
       "                        <td id=\"T_4eec591e_7c58_11ea_8607_24ee9abd5695row3_col3\" class=\"data row3 col3\" >$4.32</td>\n",
       "            </tr>\n",
       "            <tr>\n",
       "                        <th id=\"T_4eec591e_7c58_11ea_8607_24ee9abd5695level0_row4\" class=\"row_heading level0 row4\" >25-29</th>\n",
       "                        <td id=\"T_4eec591e_7c58_11ea_8607_24ee9abd5695row4_col0\" class=\"data row4 col0\" >101</td>\n",
       "                        <td id=\"T_4eec591e_7c58_11ea_8607_24ee9abd5695row4_col1\" class=\"data row4 col1\" >$2.90</td>\n",
       "                        <td id=\"T_4eec591e_7c58_11ea_8607_24ee9abd5695row4_col2\" class=\"data row4 col2\" >$293.00</td>\n",
       "                        <td id=\"T_4eec591e_7c58_11ea_8607_24ee9abd5695row4_col3\" class=\"data row4 col3\" >$3.81</td>\n",
       "            </tr>\n",
       "            <tr>\n",
       "                        <th id=\"T_4eec591e_7c58_11ea_8607_24ee9abd5695level0_row5\" class=\"row_heading level0 row5\" >30-34</th>\n",
       "                        <td id=\"T_4eec591e_7c58_11ea_8607_24ee9abd5695row5_col0\" class=\"data row5 col0\" >73</td>\n",
       "                        <td id=\"T_4eec591e_7c58_11ea_8607_24ee9abd5695row5_col1\" class=\"data row5 col1\" >$2.93</td>\n",
       "                        <td id=\"T_4eec591e_7c58_11ea_8607_24ee9abd5695row5_col2\" class=\"data row5 col2\" >$214.00</td>\n",
       "                        <td id=\"T_4eec591e_7c58_11ea_8607_24ee9abd5695row5_col3\" class=\"data row5 col3\" >$4.12</td>\n",
       "            </tr>\n",
       "            <tr>\n",
       "                        <th id=\"T_4eec591e_7c58_11ea_8607_24ee9abd5695level0_row6\" class=\"row_heading level0 row6\" >35-39</th>\n",
       "                        <td id=\"T_4eec591e_7c58_11ea_8607_24ee9abd5695row6_col0\" class=\"data row6 col0\" >41</td>\n",
       "                        <td id=\"T_4eec591e_7c58_11ea_8607_24ee9abd5695row6_col1\" class=\"data row6 col1\" >$3.60</td>\n",
       "                        <td id=\"T_4eec591e_7c58_11ea_8607_24ee9abd5695row6_col2\" class=\"data row6 col2\" >$147.67</td>\n",
       "                        <td id=\"T_4eec591e_7c58_11ea_8607_24ee9abd5695row6_col3\" class=\"data row6 col3\" >$4.76</td>\n",
       "            </tr>\n",
       "            <tr>\n",
       "                        <th id=\"T_4eec591e_7c58_11ea_8607_24ee9abd5695level0_row7\" class=\"row_heading level0 row7\" >40+</th>\n",
       "                        <td id=\"T_4eec591e_7c58_11ea_8607_24ee9abd5695row7_col0\" class=\"data row7 col0\" >13</td>\n",
       "                        <td id=\"T_4eec591e_7c58_11ea_8607_24ee9abd5695row7_col1\" class=\"data row7 col1\" >$2.94</td>\n",
       "                        <td id=\"T_4eec591e_7c58_11ea_8607_24ee9abd5695row7_col2\" class=\"data row7 col2\" >$38.24</td>\n",
       "                        <td id=\"T_4eec591e_7c58_11ea_8607_24ee9abd5695row7_col3\" class=\"data row7 col3\" >$3.19</td>\n",
       "            </tr>\n",
       "    </tbody></table>"
      ],
      "text/plain": [
       "<pandas.io.formats.style.Styler at 0x2717048e3c8>"
      ]
     },
     "execution_count": 109,
     "metadata": {},
     "output_type": "execute_result"
    }
   ],
   "source": [
    "#Count purchases by age group\n",
    "purchase_count_age = age_group[\"Purchase ID\"].count()\n",
    "\n",
    "#Average purchase price by age group\n",
    "avg_purchase_price_age = age_group[\"Price\"].mean()\n",
    "\n",
    "#Total purchase value by age group\n",
    "total_purchase_value = age_group[\"Price\"].sum()\n",
    "\n",
    "#Calculate the average purchase per persion in age group\n",
    "avg_purchase_price_person = total_purchase_value/total_age_count\n",
    "\n",
    "#New dataframe with values above\n",
    "purchasing_analysis_age = pd.DataFrame({\"Purchase Count\": purchase_count_age,\n",
    "                                       \"Average Purchase Price\": avg_purchase_price_age,\n",
    "                                       \"Total Purchase Value\": total_purchase_value,\n",
    "                                       \"Avg Total Purchase per Person\": avg_purchase_price_person})\n",
    "\n",
    "#Deleteting index columns\n",
    "purchasing_analysis_age.index.name = None\n",
    "\n",
    "#Formatting columns\n",
    "purchasing_analysis_age.style.format({\"Average Purchase Price\": dollar_format,\n",
    "                                     \"Total Purchase Value\": dollar_format,\n",
    "                                     \"Avg Total Purchase per Person\": dollar_format})\n",
    "\n",
    "\n",
    "\n",
    "\n"
   ]
  },
  {
   "cell_type": "markdown",
   "metadata": {},
   "source": [
    "## Top Spenders"
   ]
  },
  {
   "cell_type": "markdown",
   "metadata": {},
   "source": [
    "* Run basic calculations to obtain the results in the table below\n",
    "\n",
    "\n",
    "* Create a summary data frame to hold the results\n",
    "\n",
    "\n",
    "* Sort the total purchase value column in descending order\n",
    "\n",
    "\n",
    "* Optional: give the displayed data cleaner formatting\n",
    "\n",
    "\n",
    "* Display a preview of the summary data frame\n",
    "\n"
   ]
  },
  {
   "cell_type": "code",
   "execution_count": 110,
   "metadata": {},
   "outputs": [
    {
     "data": {
      "text/html": [
       "<style  type=\"text/css\" >\n",
       "</style><table id=\"T_4f9246e2_7c58_11ea_8cd0_24ee9abd5695\" ><thead>    <tr>        <th class=\"blank level0\" ></th>        <th class=\"col_heading level0 col0\" >Purchase Count</th>        <th class=\"col_heading level0 col1\" >Average Purchase Price</th>        <th class=\"col_heading level0 col2\" >Total Purchase Value</th>    </tr>    <tr>        <th class=\"index_name level0\" >SN</th>        <th class=\"blank\" ></th>        <th class=\"blank\" ></th>        <th class=\"blank\" ></th>    </tr></thead><tbody>\n",
       "                <tr>\n",
       "                        <th id=\"T_4f9246e2_7c58_11ea_8cd0_24ee9abd5695level0_row0\" class=\"row_heading level0 row0\" >Lisosia93</th>\n",
       "                        <td id=\"T_4f9246e2_7c58_11ea_8cd0_24ee9abd5695row0_col0\" class=\"data row0 col0\" >5</td>\n",
       "                        <td id=\"T_4f9246e2_7c58_11ea_8cd0_24ee9abd5695row0_col1\" class=\"data row0 col1\" >$3.79</td>\n",
       "                        <td id=\"T_4f9246e2_7c58_11ea_8cd0_24ee9abd5695row0_col2\" class=\"data row0 col2\" >$18.96</td>\n",
       "            </tr>\n",
       "            <tr>\n",
       "                        <th id=\"T_4f9246e2_7c58_11ea_8cd0_24ee9abd5695level0_row1\" class=\"row_heading level0 row1\" >Idastidru52</th>\n",
       "                        <td id=\"T_4f9246e2_7c58_11ea_8cd0_24ee9abd5695row1_col0\" class=\"data row1 col0\" >4</td>\n",
       "                        <td id=\"T_4f9246e2_7c58_11ea_8cd0_24ee9abd5695row1_col1\" class=\"data row1 col1\" >$3.86</td>\n",
       "                        <td id=\"T_4f9246e2_7c58_11ea_8cd0_24ee9abd5695row1_col2\" class=\"data row1 col2\" >$15.45</td>\n",
       "            </tr>\n",
       "            <tr>\n",
       "                        <th id=\"T_4f9246e2_7c58_11ea_8cd0_24ee9abd5695level0_row2\" class=\"row_heading level0 row2\" >Chamjask73</th>\n",
       "                        <td id=\"T_4f9246e2_7c58_11ea_8cd0_24ee9abd5695row2_col0\" class=\"data row2 col0\" >3</td>\n",
       "                        <td id=\"T_4f9246e2_7c58_11ea_8cd0_24ee9abd5695row2_col1\" class=\"data row2 col1\" >$4.61</td>\n",
       "                        <td id=\"T_4f9246e2_7c58_11ea_8cd0_24ee9abd5695row2_col2\" class=\"data row2 col2\" >$13.83</td>\n",
       "            </tr>\n",
       "            <tr>\n",
       "                        <th id=\"T_4f9246e2_7c58_11ea_8cd0_24ee9abd5695level0_row3\" class=\"row_heading level0 row3\" >Iral74</th>\n",
       "                        <td id=\"T_4f9246e2_7c58_11ea_8cd0_24ee9abd5695row3_col0\" class=\"data row3 col0\" >4</td>\n",
       "                        <td id=\"T_4f9246e2_7c58_11ea_8cd0_24ee9abd5695row3_col1\" class=\"data row3 col1\" >$3.40</td>\n",
       "                        <td id=\"T_4f9246e2_7c58_11ea_8cd0_24ee9abd5695row3_col2\" class=\"data row3 col2\" >$13.62</td>\n",
       "            </tr>\n",
       "            <tr>\n",
       "                        <th id=\"T_4f9246e2_7c58_11ea_8cd0_24ee9abd5695level0_row4\" class=\"row_heading level0 row4\" >Iskadarya95</th>\n",
       "                        <td id=\"T_4f9246e2_7c58_11ea_8cd0_24ee9abd5695row4_col0\" class=\"data row4 col0\" >3</td>\n",
       "                        <td id=\"T_4f9246e2_7c58_11ea_8cd0_24ee9abd5695row4_col1\" class=\"data row4 col1\" >$4.37</td>\n",
       "                        <td id=\"T_4f9246e2_7c58_11ea_8cd0_24ee9abd5695row4_col2\" class=\"data row4 col2\" >$13.10</td>\n",
       "            </tr>\n",
       "    </tbody></table>"
      ],
      "text/plain": [
       "<pandas.io.formats.style.Styler at 0x2717046f0c8>"
      ]
     },
     "execution_count": 110,
     "metadata": {},
     "output_type": "execute_result"
    }
   ],
   "source": [
    "#Group purchase data by name\n",
    "name_data = purchase_data.groupby(\"SN\")\n",
    "\n",
    "#Purchase count by name\n",
    "purchase_count_name = name_data[\"Purchase ID\"].count()\n",
    "\n",
    "#Average Purchase Price \n",
    "avg_purchase_price_name = name_data[\"Price\"].mean()\n",
    "\n",
    "#Total Purchase Value\n",
    "total_purchase_value_name = name_data[\"Price\"].sum()\n",
    "\n",
    "#Create new dataframe with info above\n",
    "top_spenders = pd.DataFrame({\"Purchase Count\": purchase_count_name,\n",
    "                            \"Average Purchase Price\": avg_purchase_price_name,\n",
    "                            \"Total Purchase Value\": total_purchase_value_name})\n",
    "\n",
    "#Sort in descending order\n",
    "format_top_spenders = top_spenders.sort_values([\"Total Purchase Value\"], ascending=False).head()\n",
    "\n",
    "#Format columns\n",
    "format_top_spenders.style.format({\"Average Purchase Price\": dollar_format,\n",
    "                                 \"Total Purchase Value\": dollar_format})\n",
    "\n",
    "\n"
   ]
  },
  {
   "cell_type": "markdown",
   "metadata": {},
   "source": [
    "## Most Popular Items"
   ]
  },
  {
   "cell_type": "markdown",
   "metadata": {},
   "source": [
    "* Retrieve the Item ID, Item Name, and Item Price columns\n",
    "\n",
    "\n",
    "* Group by Item ID and Item Name. Perform calculations to obtain purchase count, item price, and total purchase value\n",
    "\n",
    "\n",
    "* Create a summary data frame to hold the results\n",
    "\n",
    "\n",
    "* Sort the purchase count column in descending order\n",
    "\n",
    "\n",
    "* Optional: give the displayed data cleaner formatting\n",
    "\n",
    "\n",
    "* Display a preview of the summary data frame\n",
    "\n"
   ]
  },
  {
   "cell_type": "code",
   "execution_count": 116,
   "metadata": {},
   "outputs": [
    {
     "data": {
      "text/html": [
       "<style  type=\"text/css\" >\n",
       "</style><table id=\"T_bcde129c_7c58_11ea_89c1_24ee9abd5695\" ><thead>    <tr>        <th class=\"blank\" ></th>        <th class=\"blank level0\" ></th>        <th class=\"col_heading level0 col0\" >Purchase Count</th>        <th class=\"col_heading level0 col1\" >Item Price</th>        <th class=\"col_heading level0 col2\" >Purchase Value</th>    </tr>    <tr>        <th class=\"index_name level0\" >Item ID</th>        <th class=\"index_name level1\" >Item Name</th>        <th class=\"blank\" ></th>        <th class=\"blank\" ></th>        <th class=\"blank\" ></th>    </tr></thead><tbody>\n",
       "                <tr>\n",
       "                        <th id=\"T_bcde129c_7c58_11ea_89c1_24ee9abd5695level0_row0\" class=\"row_heading level0 row0\" >92</th>\n",
       "                        <th id=\"T_bcde129c_7c58_11ea_89c1_24ee9abd5695level1_row0\" class=\"row_heading level1 row0\" >Final Critic</th>\n",
       "                        <td id=\"T_bcde129c_7c58_11ea_89c1_24ee9abd5695row0_col0\" class=\"data row0 col0\" >13</td>\n",
       "                        <td id=\"T_bcde129c_7c58_11ea_89c1_24ee9abd5695row0_col1\" class=\"data row0 col1\" >$4.61</td>\n",
       "                        <td id=\"T_bcde129c_7c58_11ea_89c1_24ee9abd5695row0_col2\" class=\"data row0 col2\" >$59.99</td>\n",
       "            </tr>\n",
       "            <tr>\n",
       "                        <th id=\"T_bcde129c_7c58_11ea_89c1_24ee9abd5695level0_row1\" class=\"row_heading level0 row1\" >178</th>\n",
       "                        <th id=\"T_bcde129c_7c58_11ea_89c1_24ee9abd5695level1_row1\" class=\"row_heading level1 row1\" >Oathbreaker, Last Hope of the Breaking Storm</th>\n",
       "                        <td id=\"T_bcde129c_7c58_11ea_89c1_24ee9abd5695row1_col0\" class=\"data row1 col0\" >12</td>\n",
       "                        <td id=\"T_bcde129c_7c58_11ea_89c1_24ee9abd5695row1_col1\" class=\"data row1 col1\" >$4.23</td>\n",
       "                        <td id=\"T_bcde129c_7c58_11ea_89c1_24ee9abd5695row1_col2\" class=\"data row1 col2\" >$50.76</td>\n",
       "            </tr>\n",
       "            <tr>\n",
       "                        <th id=\"T_bcde129c_7c58_11ea_89c1_24ee9abd5695level0_row2\" class=\"row_heading level0 row2\" >145</th>\n",
       "                        <th id=\"T_bcde129c_7c58_11ea_89c1_24ee9abd5695level1_row2\" class=\"row_heading level1 row2\" >Fiery Glass Crusader</th>\n",
       "                        <td id=\"T_bcde129c_7c58_11ea_89c1_24ee9abd5695row2_col0\" class=\"data row2 col0\" >9</td>\n",
       "                        <td id=\"T_bcde129c_7c58_11ea_89c1_24ee9abd5695row2_col1\" class=\"data row2 col1\" >$4.58</td>\n",
       "                        <td id=\"T_bcde129c_7c58_11ea_89c1_24ee9abd5695row2_col2\" class=\"data row2 col2\" >$41.22</td>\n",
       "            </tr>\n",
       "            <tr>\n",
       "                        <th id=\"T_bcde129c_7c58_11ea_89c1_24ee9abd5695level0_row3\" class=\"row_heading level0 row3\" >132</th>\n",
       "                        <th id=\"T_bcde129c_7c58_11ea_89c1_24ee9abd5695level1_row3\" class=\"row_heading level1 row3\" >Persuasion</th>\n",
       "                        <td id=\"T_bcde129c_7c58_11ea_89c1_24ee9abd5695row3_col0\" class=\"data row3 col0\" >9</td>\n",
       "                        <td id=\"T_bcde129c_7c58_11ea_89c1_24ee9abd5695row3_col1\" class=\"data row3 col1\" >$3.22</td>\n",
       "                        <td id=\"T_bcde129c_7c58_11ea_89c1_24ee9abd5695row3_col2\" class=\"data row3 col2\" >$28.99</td>\n",
       "            </tr>\n",
       "            <tr>\n",
       "                        <th id=\"T_bcde129c_7c58_11ea_89c1_24ee9abd5695level0_row4\" class=\"row_heading level0 row4\" >108</th>\n",
       "                        <th id=\"T_bcde129c_7c58_11ea_89c1_24ee9abd5695level1_row4\" class=\"row_heading level1 row4\" >Extraction, Quickblade Of Trembling Hands</th>\n",
       "                        <td id=\"T_bcde129c_7c58_11ea_89c1_24ee9abd5695row4_col0\" class=\"data row4 col0\" >9</td>\n",
       "                        <td id=\"T_bcde129c_7c58_11ea_89c1_24ee9abd5695row4_col1\" class=\"data row4 col1\" >$3.53</td>\n",
       "                        <td id=\"T_bcde129c_7c58_11ea_89c1_24ee9abd5695row4_col2\" class=\"data row4 col2\" >$31.77</td>\n",
       "            </tr>\n",
       "    </tbody></table>"
      ],
      "text/plain": [
       "<pandas.io.formats.style.Styler at 0x271704f7fc8>"
      ]
     },
     "execution_count": 116,
     "metadata": {},
     "output_type": "execute_result"
    }
   ],
   "source": [
    "#Create dataframe with select columns\n",
    "items = purchase_data[[\"Item ID\", \"Item Name\",\"Price\"]]\n",
    "\n",
    "#Group by item ID and name\n",
    "item_group = items.groupby([\"Item ID\",\"Item Name\"])\n",
    "\n",
    "#Purchase count, item price and total purchase value\n",
    "purchase_count = item_group[\"Price\"].count()\n",
    "purchase_value = (item_group[\"Price\"].sum())\n",
    "item_price = purchase_value/purchase_count\n",
    "\n",
    "#New dataframe with value above\n",
    "popular_items = pd.DataFrame({\"Purchase Count\": purchase_count,\n",
    "                             \"Item Price\": item_price,\n",
    "                             \"Purchase Value\": purchase_value})\n",
    "\n",
    "#Sort and format\n",
    "popular_items_format = popular_items.sort_values([\"Purchase Count\"], ascending=False).head()\n",
    "\n",
    "popular_items_format.style.format({\"Item Price\": dollar_format,\n",
    "                                   \"Purchase Value\": dollar_format})\n",
    "\n",
    "\n",
    "\n"
   ]
  },
  {
   "cell_type": "markdown",
   "metadata": {},
   "source": [
    "## Most Profitable Items"
   ]
  },
  {
   "cell_type": "markdown",
   "metadata": {},
   "source": [
    "* Sort the above table by total purchase value in descending order\n",
    "\n",
    "\n",
    "* Optional: give the displayed data cleaner formatting\n",
    "\n",
    "\n",
    "* Display a preview of the data frame\n",
    "\n"
   ]
  },
  {
   "cell_type": "code",
   "execution_count": 121,
   "metadata": {
    "scrolled": true
   },
   "outputs": [
    {
     "data": {
      "text/html": [
       "<style  type=\"text/css\" >\n",
       "</style><table id=\"T_648a6040_7c59_11ea_a4e9_24ee9abd5695\" ><thead>    <tr>        <th class=\"blank\" ></th>        <th class=\"blank level0\" ></th>        <th class=\"col_heading level0 col0\" >Purchase Count</th>        <th class=\"col_heading level0 col1\" >Item Price</th>        <th class=\"col_heading level0 col2\" >Purchase Value</th>    </tr>    <tr>        <th class=\"index_name level0\" >Item ID</th>        <th class=\"index_name level1\" >Item Name</th>        <th class=\"blank\" ></th>        <th class=\"blank\" ></th>        <th class=\"blank\" ></th>    </tr></thead><tbody>\n",
       "                <tr>\n",
       "                        <th id=\"T_648a6040_7c59_11ea_a4e9_24ee9abd5695level0_row0\" class=\"row_heading level0 row0\" >92</th>\n",
       "                        <th id=\"T_648a6040_7c59_11ea_a4e9_24ee9abd5695level1_row0\" class=\"row_heading level1 row0\" >Final Critic</th>\n",
       "                        <td id=\"T_648a6040_7c59_11ea_a4e9_24ee9abd5695row0_col0\" class=\"data row0 col0\" >13</td>\n",
       "                        <td id=\"T_648a6040_7c59_11ea_a4e9_24ee9abd5695row0_col1\" class=\"data row0 col1\" >$4.61</td>\n",
       "                        <td id=\"T_648a6040_7c59_11ea_a4e9_24ee9abd5695row0_col2\" class=\"data row0 col2\" >$59.99</td>\n",
       "            </tr>\n",
       "            <tr>\n",
       "                        <th id=\"T_648a6040_7c59_11ea_a4e9_24ee9abd5695level0_row1\" class=\"row_heading level0 row1\" >178</th>\n",
       "                        <th id=\"T_648a6040_7c59_11ea_a4e9_24ee9abd5695level1_row1\" class=\"row_heading level1 row1\" >Oathbreaker, Last Hope of the Breaking Storm</th>\n",
       "                        <td id=\"T_648a6040_7c59_11ea_a4e9_24ee9abd5695row1_col0\" class=\"data row1 col0\" >12</td>\n",
       "                        <td id=\"T_648a6040_7c59_11ea_a4e9_24ee9abd5695row1_col1\" class=\"data row1 col1\" >$4.23</td>\n",
       "                        <td id=\"T_648a6040_7c59_11ea_a4e9_24ee9abd5695row1_col2\" class=\"data row1 col2\" >$50.76</td>\n",
       "            </tr>\n",
       "            <tr>\n",
       "                        <th id=\"T_648a6040_7c59_11ea_a4e9_24ee9abd5695level0_row2\" class=\"row_heading level0 row2\" >82</th>\n",
       "                        <th id=\"T_648a6040_7c59_11ea_a4e9_24ee9abd5695level1_row2\" class=\"row_heading level1 row2\" >Nirvana</th>\n",
       "                        <td id=\"T_648a6040_7c59_11ea_a4e9_24ee9abd5695row2_col0\" class=\"data row2 col0\" >9</td>\n",
       "                        <td id=\"T_648a6040_7c59_11ea_a4e9_24ee9abd5695row2_col1\" class=\"data row2 col1\" >$4.90</td>\n",
       "                        <td id=\"T_648a6040_7c59_11ea_a4e9_24ee9abd5695row2_col2\" class=\"data row2 col2\" >$44.10</td>\n",
       "            </tr>\n",
       "            <tr>\n",
       "                        <th id=\"T_648a6040_7c59_11ea_a4e9_24ee9abd5695level0_row3\" class=\"row_heading level0 row3\" >145</th>\n",
       "                        <th id=\"T_648a6040_7c59_11ea_a4e9_24ee9abd5695level1_row3\" class=\"row_heading level1 row3\" >Fiery Glass Crusader</th>\n",
       "                        <td id=\"T_648a6040_7c59_11ea_a4e9_24ee9abd5695row3_col0\" class=\"data row3 col0\" >9</td>\n",
       "                        <td id=\"T_648a6040_7c59_11ea_a4e9_24ee9abd5695row3_col1\" class=\"data row3 col1\" >$4.58</td>\n",
       "                        <td id=\"T_648a6040_7c59_11ea_a4e9_24ee9abd5695row3_col2\" class=\"data row3 col2\" >$41.22</td>\n",
       "            </tr>\n",
       "            <tr>\n",
       "                        <th id=\"T_648a6040_7c59_11ea_a4e9_24ee9abd5695level0_row4\" class=\"row_heading level0 row4\" >103</th>\n",
       "                        <th id=\"T_648a6040_7c59_11ea_a4e9_24ee9abd5695level1_row4\" class=\"row_heading level1 row4\" >Singed Scalpel</th>\n",
       "                        <td id=\"T_648a6040_7c59_11ea_a4e9_24ee9abd5695row4_col0\" class=\"data row4 col0\" >8</td>\n",
       "                        <td id=\"T_648a6040_7c59_11ea_a4e9_24ee9abd5695row4_col1\" class=\"data row4 col1\" >$4.35</td>\n",
       "                        <td id=\"T_648a6040_7c59_11ea_a4e9_24ee9abd5695row4_col2\" class=\"data row4 col2\" >$34.80</td>\n",
       "            </tr>\n",
       "    </tbody></table>"
      ],
      "text/plain": [
       "<pandas.io.formats.style.Styler at 0x27170543b88>"
      ]
     },
     "execution_count": 121,
     "metadata": {},
     "output_type": "execute_result"
    }
   ],
   "source": [
    "#Sorting above table descending by purchase value\n",
    "popular_items_format = popular_items.sort_values([\"Purchase Value\"], ascending=False).head()\n",
    "\n",
    "#Sort and format\n",
    "popular_items_format.style.format({\"Item Price\": dollar_format,\n",
    "                                   \"Purchase Value\": dollar_format})\n"
   ]
  },
  {
   "cell_type": "code",
   "execution_count": null,
   "metadata": {},
   "outputs": [],
   "source": []
  }
 ],
 "metadata": {
  "anaconda-cloud": {},
  "kernel_info": {
   "name": "python3"
  },
  "kernelspec": {
   "display_name": "Python 3",
   "language": "python",
   "name": "python3"
  },
  "language_info": {
   "codemirror_mode": {
    "name": "ipython",
    "version": 3
   },
   "file_extension": ".py",
   "mimetype": "text/x-python",
   "name": "python",
   "nbconvert_exporter": "python",
   "pygments_lexer": "ipython3",
   "version": "3.7.4"
  },
  "latex_envs": {
   "LaTeX_envs_menu_present": true,
   "autoclose": false,
   "autocomplete": true,
   "bibliofile": "biblio.bib",
   "cite_by": "apalike",
   "current_citInitial": 1,
   "eqLabelWithNumbers": true,
   "eqNumInitial": 1,
   "hotkeys": {
    "equation": "Ctrl-E",
    "itemize": "Ctrl-I"
   },
   "labels_anchors": false,
   "latex_user_defs": false,
   "report_style_numbering": false,
   "user_envs_cfg": false
  },
  "nteract": {
   "version": "0.2.0"
  }
 },
 "nbformat": 4,
 "nbformat_minor": 2
}
